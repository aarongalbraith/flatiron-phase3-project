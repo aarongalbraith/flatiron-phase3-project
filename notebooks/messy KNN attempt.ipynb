{
 "cells": [
  {
   "cell_type": "code",
   "execution_count": 1,
   "metadata": {},
   "outputs": [],
   "source": [
    "import numpy as np\n",
    "import pandas as pd\n",
    "import matplotlib.pyplot as plt\n",
    "plt.style.use('ggplot')\n",
    "%matplotlib inline\n",
    "from sklearn.model_selection import train_test_split\n",
    "from sklearn.tree import DecisionTreeClassifier\n",
    "from sklearn.metrics import accuracy_score, roc_curve, auc\n",
    "from sklearn.preprocessing import OneHotEncoder\n",
    "from sklearn import tree\n",
    "from scipy.spatial.distance import euclidean\n",
    "SEED = 10"
   ]
  },
  {
   "cell_type": "code",
   "execution_count": 2,
   "metadata": {},
   "outputs": [
    {
     "data": {
      "text/plain": [
       "(59364, 26)"
      ]
     },
     "execution_count": 2,
     "metadata": {},
     "output_type": "execute_result"
    }
   ],
   "source": [
    "# load the data from two files\n",
    "dfX = pd.read_csv('../data/training_set_values.csv')\n",
    "dfy = pd.read_csv('../data/training_set_labels.csv')\n",
    "# concatenate the files\n",
    "df = pd.concat([dfX, dfy.status_group], axis = 1)\n",
    "\n",
    "# drop duplicates, singling out the id column\n",
    "df.drop(df[df.duplicated(subset=df.columns.difference(['id']))].index, inplace=True)\n",
    "# drop columns with missing values\n",
    "df.dropna(axis='columns', inplace=True)\n",
    "# drop id column and columns with problematic zero values\n",
    "df.drop(columns=['id', 'num_private', 'construction_year', 'population'], inplace=True)\n",
    "# convert region_code to string object\n",
    "df.region_code = df.region_code.astype('string')\n",
    "# convert district_code to string object\n",
    "df.district_code = df.district_code.astype('string')\n",
    "# drop columns related to lat/long and elevation (which might still prove to be useful)\n",
    "df.drop(columns=['longitude', 'latitude', 'gps_height'], inplace=True)\n",
    "# drop date column\n",
    "df.drop(columns=['date_recorded'], inplace=True)\n",
    "# show row and column counts\n",
    "df.shape"
   ]
  },
  {
   "cell_type": "code",
   "execution_count": 3,
   "metadata": {},
   "outputs": [],
   "source": [
    "labels = df.status_group\n",
    "df.drop('status_group', axis=1, inplace=True)"
   ]
  },
  {
   "cell_type": "code",
   "execution_count": 4,
   "metadata": {},
   "outputs": [],
   "source": [
    "# encode the status_group as 1s ('functional') and 0s ('non functional' or 'functional needs repair')\n",
    "labels = labels.apply(lambda x: 1 if x == 'functional' else 0)\n",
    "# # convert date_recorded to datetime object\n",
    "# df.date_recorded = pd.to_datetime(df.date_recorded, format = \"%Y-%m-%d\")"
   ]
  },
  {
   "cell_type": "code",
   "execution_count": 5,
   "metadata": {},
   "outputs": [
    {
     "data": {
      "text/plain": [
       "(59364, 18)"
      ]
     },
     "execution_count": 5,
     "metadata": {},
     "output_type": "execute_result"
    }
   ],
   "source": [
    "# drop all categorical columns with more than 10 unique values\n",
    "df.drop(columns = list(df.select_dtypes(include=['object']).loc[:, df.nunique() > 10].columns), inplace=True)\n",
    "# show rows and columns\n",
    "df.shape"
   ]
  },
  {
   "cell_type": "code",
   "execution_count": 6,
   "metadata": {},
   "outputs": [
    {
     "data": {
      "text/plain": [
       "(59364, 96)"
      ]
     },
     "execution_count": 6,
     "metadata": {},
     "output_type": "execute_result"
    }
   ],
   "source": [
    "# one-hot encode the categorical columns\n",
    "one_hot_df = pd.get_dummies(df)\n",
    "# show row and column counts\n",
    "one_hot_df.shape"
   ]
  },
  {
   "cell_type": "code",
   "execution_count": 7,
   "metadata": {},
   "outputs": [],
   "source": [
    "from sklearn.model_selection import train_test_split\n",
    "\n",
    "X_train, X_test, y_train, y_test = train_test_split(one_hot_df, labels, test_size=0.25, random_state=42)"
   ]
  },
  {
   "cell_type": "code",
   "execution_count": 8,
   "metadata": {},
   "outputs": [
    {
     "data": {
      "text/html": [
       "<div>\n",
       "<style scoped>\n",
       "    .dataframe tbody tr th:only-of-type {\n",
       "        vertical-align: middle;\n",
       "    }\n",
       "\n",
       "    .dataframe tbody tr th {\n",
       "        vertical-align: top;\n",
       "    }\n",
       "\n",
       "    .dataframe thead th {\n",
       "        text-align: right;\n",
       "    }\n",
       "</style>\n",
       "<table border=\"1\" class=\"dataframe\">\n",
       "  <thead>\n",
       "    <tr style=\"text-align: right;\">\n",
       "      <th></th>\n",
       "      <th>amount_tsh</th>\n",
       "      <th>region_code</th>\n",
       "      <th>district_code</th>\n",
       "      <th>basin_Internal</th>\n",
       "      <th>basin_Lake Nyasa</th>\n",
       "      <th>basin_Lake Rukwa</th>\n",
       "      <th>basin_Lake Tanganyika</th>\n",
       "      <th>basin_Lake Victoria</th>\n",
       "      <th>basin_Pangani</th>\n",
       "      <th>basin_Rufiji</th>\n",
       "      <th>...</th>\n",
       "      <th>waterpoint_type_dam</th>\n",
       "      <th>waterpoint_type_hand pump</th>\n",
       "      <th>waterpoint_type_improved spring</th>\n",
       "      <th>waterpoint_type_other</th>\n",
       "      <th>waterpoint_type_group_cattle trough</th>\n",
       "      <th>waterpoint_type_group_communal standpipe</th>\n",
       "      <th>waterpoint_type_group_dam</th>\n",
       "      <th>waterpoint_type_group_hand pump</th>\n",
       "      <th>waterpoint_type_group_improved spring</th>\n",
       "      <th>waterpoint_type_group_other</th>\n",
       "    </tr>\n",
       "  </thead>\n",
       "  <tbody>\n",
       "    <tr>\n",
       "      <th>0</th>\n",
       "      <td>-0.117103</td>\n",
       "      <td>-0.187294</td>\n",
       "      <td>-0.376230</td>\n",
       "      <td>-0.388626</td>\n",
       "      <td>-0.305955</td>\n",
       "      <td>4.824567</td>\n",
       "      <td>-0.348184</td>\n",
       "      <td>-0.453905</td>\n",
       "      <td>-0.42003</td>\n",
       "      <td>-0.396665</td>\n",
       "      <td>...</td>\n",
       "      <td>-0.010598</td>\n",
       "      <td>-0.645358</td>\n",
       "      <td>-0.114484</td>\n",
       "      <td>-0.348832</td>\n",
       "      <td>-0.041892</td>\n",
       "      <td>0.846277</td>\n",
       "      <td>-0.010598</td>\n",
       "      <td>-0.645358</td>\n",
       "      <td>-0.114484</td>\n",
       "      <td>-0.348832</td>\n",
       "    </tr>\n",
       "    <tr>\n",
       "      <th>1</th>\n",
       "      <td>-0.117103</td>\n",
       "      <td>-0.073704</td>\n",
       "      <td>-0.067536</td>\n",
       "      <td>-0.388626</td>\n",
       "      <td>-0.305955</td>\n",
       "      <td>-0.207272</td>\n",
       "      <td>2.872046</td>\n",
       "      <td>-0.453905</td>\n",
       "      <td>-0.42003</td>\n",
       "      <td>-0.396665</td>\n",
       "      <td>...</td>\n",
       "      <td>-0.010598</td>\n",
       "      <td>-0.645358</td>\n",
       "      <td>-0.114484</td>\n",
       "      <td>-0.348832</td>\n",
       "      <td>-0.041892</td>\n",
       "      <td>0.846277</td>\n",
       "      <td>-0.010598</td>\n",
       "      <td>-0.645358</td>\n",
       "      <td>-0.114484</td>\n",
       "      <td>-0.348832</td>\n",
       "    </tr>\n",
       "    <tr>\n",
       "      <th>2</th>\n",
       "      <td>-0.105906</td>\n",
       "      <td>0.323859</td>\n",
       "      <td>-0.170434</td>\n",
       "      <td>-0.388626</td>\n",
       "      <td>-0.305955</td>\n",
       "      <td>-0.207272</td>\n",
       "      <td>-0.348184</td>\n",
       "      <td>-0.453905</td>\n",
       "      <td>2.38078</td>\n",
       "      <td>-0.396665</td>\n",
       "      <td>...</td>\n",
       "      <td>-0.010598</td>\n",
       "      <td>-0.645358</td>\n",
       "      <td>-0.114484</td>\n",
       "      <td>-0.348832</td>\n",
       "      <td>-0.041892</td>\n",
       "      <td>0.846277</td>\n",
       "      <td>-0.010598</td>\n",
       "      <td>-0.645358</td>\n",
       "      <td>-0.114484</td>\n",
       "      <td>-0.348832</td>\n",
       "    </tr>\n",
       "    <tr>\n",
       "      <th>3</th>\n",
       "      <td>-0.117103</td>\n",
       "      <td>0.153474</td>\n",
       "      <td>-0.273332</td>\n",
       "      <td>-0.388626</td>\n",
       "      <td>-0.305955</td>\n",
       "      <td>-0.207272</td>\n",
       "      <td>-0.348184</td>\n",
       "      <td>2.203104</td>\n",
       "      <td>-0.42003</td>\n",
       "      <td>-0.396665</td>\n",
       "      <td>...</td>\n",
       "      <td>-0.010598</td>\n",
       "      <td>-0.645358</td>\n",
       "      <td>-0.114484</td>\n",
       "      <td>2.866708</td>\n",
       "      <td>-0.041892</td>\n",
       "      <td>-1.181646</td>\n",
       "      <td>-0.010598</td>\n",
       "      <td>-0.645358</td>\n",
       "      <td>-0.114484</td>\n",
       "      <td>2.866708</td>\n",
       "    </tr>\n",
       "    <tr>\n",
       "      <th>4</th>\n",
       "      <td>-0.117103</td>\n",
       "      <td>0.153474</td>\n",
       "      <td>-0.479129</td>\n",
       "      <td>-0.388626</td>\n",
       "      <td>-0.305955</td>\n",
       "      <td>-0.207272</td>\n",
       "      <td>-0.348184</td>\n",
       "      <td>2.203104</td>\n",
       "      <td>-0.42003</td>\n",
       "      <td>-0.396665</td>\n",
       "      <td>...</td>\n",
       "      <td>-0.010598</td>\n",
       "      <td>-0.645358</td>\n",
       "      <td>-0.114484</td>\n",
       "      <td>-0.348832</td>\n",
       "      <td>-0.041892</td>\n",
       "      <td>0.846277</td>\n",
       "      <td>-0.010598</td>\n",
       "      <td>-0.645358</td>\n",
       "      <td>-0.114484</td>\n",
       "      <td>-0.348832</td>\n",
       "    </tr>\n",
       "  </tbody>\n",
       "</table>\n",
       "<p>5 rows × 96 columns</p>\n",
       "</div>"
      ],
      "text/plain": [
       "   amount_tsh  region_code  district_code  basin_Internal  basin_Lake Nyasa  \\\n",
       "0   -0.117103    -0.187294      -0.376230       -0.388626         -0.305955   \n",
       "1   -0.117103    -0.073704      -0.067536       -0.388626         -0.305955   \n",
       "2   -0.105906     0.323859      -0.170434       -0.388626         -0.305955   \n",
       "3   -0.117103     0.153474      -0.273332       -0.388626         -0.305955   \n",
       "4   -0.117103     0.153474      -0.479129       -0.388626         -0.305955   \n",
       "\n",
       "   basin_Lake Rukwa  basin_Lake Tanganyika  basin_Lake Victoria  \\\n",
       "0          4.824567              -0.348184            -0.453905   \n",
       "1         -0.207272               2.872046            -0.453905   \n",
       "2         -0.207272              -0.348184            -0.453905   \n",
       "3         -0.207272              -0.348184             2.203104   \n",
       "4         -0.207272              -0.348184             2.203104   \n",
       "\n",
       "   basin_Pangani  basin_Rufiji  ...  waterpoint_type_dam  \\\n",
       "0       -0.42003     -0.396665  ...            -0.010598   \n",
       "1       -0.42003     -0.396665  ...            -0.010598   \n",
       "2        2.38078     -0.396665  ...            -0.010598   \n",
       "3       -0.42003     -0.396665  ...            -0.010598   \n",
       "4       -0.42003     -0.396665  ...            -0.010598   \n",
       "\n",
       "   waterpoint_type_hand pump  waterpoint_type_improved spring  \\\n",
       "0                  -0.645358                        -0.114484   \n",
       "1                  -0.645358                        -0.114484   \n",
       "2                  -0.645358                        -0.114484   \n",
       "3                  -0.645358                        -0.114484   \n",
       "4                  -0.645358                        -0.114484   \n",
       "\n",
       "   waterpoint_type_other  waterpoint_type_group_cattle trough  \\\n",
       "0              -0.348832                            -0.041892   \n",
       "1              -0.348832                            -0.041892   \n",
       "2              -0.348832                            -0.041892   \n",
       "3               2.866708                            -0.041892   \n",
       "4              -0.348832                            -0.041892   \n",
       "\n",
       "   waterpoint_type_group_communal standpipe  waterpoint_type_group_dam  \\\n",
       "0                                  0.846277                  -0.010598   \n",
       "1                                  0.846277                  -0.010598   \n",
       "2                                  0.846277                  -0.010598   \n",
       "3                                 -1.181646                  -0.010598   \n",
       "4                                  0.846277                  -0.010598   \n",
       "\n",
       "   waterpoint_type_group_hand pump  waterpoint_type_group_improved spring  \\\n",
       "0                        -0.645358                              -0.114484   \n",
       "1                        -0.645358                              -0.114484   \n",
       "2                        -0.645358                              -0.114484   \n",
       "3                        -0.645358                              -0.114484   \n",
       "4                        -0.645358                              -0.114484   \n",
       "\n",
       "   waterpoint_type_group_other  \n",
       "0                    -0.348832  \n",
       "1                    -0.348832  \n",
       "2                    -0.348832  \n",
       "3                     2.866708  \n",
       "4                    -0.348832  \n",
       "\n",
       "[5 rows x 96 columns]"
      ]
     },
     "execution_count": 8,
     "metadata": {},
     "output_type": "execute_result"
    }
   ],
   "source": [
    "# Import StandardScaler\n",
    "from sklearn.preprocessing import StandardScaler\n",
    "\n",
    "# Instantiate StandardScaler\n",
    "scaler = StandardScaler()\n",
    "\n",
    "# Transform the training and test sets\n",
    "scaled_data_train = scaler.fit_transform(X_train)\n",
    "scaled_data_test = scaler.transform(X_test)\n",
    "\n",
    "# Convert into a DataFrame\n",
    "scaled_df_train = pd.DataFrame(scaled_data_train, columns=one_hot_df.columns)\n",
    "scaled_df_train.head()"
   ]
  },
  {
   "cell_type": "code",
   "execution_count": 9,
   "metadata": {},
   "outputs": [],
   "source": [
    "# Import KNeighborsClassifier\n",
    "from sklearn.neighbors import KNeighborsClassifier\n",
    "\n",
    "# Instantiate KNeighborsClassifier\n",
    "clf = KNeighborsClassifier()\n",
    "\n",
    "# Fit the classifier\n",
    "clf.fit(scaled_data_train, y_train)\n",
    "\n",
    "# Predict on the test set\n",
    "test_preds = clf.predict(scaled_data_test)"
   ]
  },
  {
   "cell_type": "code",
   "execution_count": 10,
   "metadata": {},
   "outputs": [],
   "source": [
    "# Import the necessary functions\n",
    "from sklearn.metrics import precision_score, recall_score, accuracy_score, f1_score"
   ]
  },
  {
   "cell_type": "code",
   "execution_count": 11,
   "metadata": {},
   "outputs": [
    {
     "name": "stdout",
     "output_type": "stream",
     "text": [
      "Precision Score: 0.7683384110616358\n",
      "Recall Score: 0.8167663178873941\n",
      "Accuracy Score: 0.7676706421400176\n",
      "F1 Score: 0.7918125830213742\n"
     ]
    }
   ],
   "source": [
    "# Complete the function\n",
    "def print_metrics(labels, preds):\n",
    "    print(\"Precision Score: {}\".format(precision_score(labels, preds)))\n",
    "    print(\"Recall Score: {}\".format(recall_score(labels, preds)))\n",
    "    print(\"Accuracy Score: {}\".format(accuracy_score(labels, preds)))\n",
    "    print(\"F1 Score: {}\".format(f1_score(labels, preds)))\n",
    "    \n",
    "print_metrics(y_test, test_preds)"
   ]
  },
  {
   "cell_type": "code",
   "execution_count": null,
   "metadata": {},
   "outputs": [],
   "source": []
  }
 ],
 "metadata": {
  "kernelspec": {
   "display_name": "Python (learn-env)",
   "language": "python",
   "name": "learn-env"
  },
  "language_info": {
   "codemirror_mode": {
    "name": "ipython",
    "version": 3
   },
   "file_extension": ".py",
   "mimetype": "text/x-python",
   "name": "python",
   "nbconvert_exporter": "python",
   "pygments_lexer": "ipython3",
   "version": "3.8.5"
  }
 },
 "nbformat": 4,
 "nbformat_minor": 4
}
