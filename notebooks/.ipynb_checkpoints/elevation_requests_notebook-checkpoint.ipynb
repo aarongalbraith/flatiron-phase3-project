{
 "cells": [
  {
   "cell_type": "markdown",
   "metadata": {},
   "source": [
    "# Elevation Requests\n",
    "\n",
    "This short notebook will outline the numbers of missing elevations from the data set and execute api requests from Google to retrieve all the elevation data it can.\n",
    "\n",
    "As Google puts limits on (or charges for) certain numbers of requests, this notebook is not meant to be run multiple times. The data will be retrieved and stored in an alternate csv file, which will be opened in the regular project notebook.\n",
    "\n",
    "The resulting dataframe will have one more column than the original. In the project notebook, the original \"gps_height\" column will be dropped in favor of using the \"elevation\" column created here."
   ]
  },
  {
   "cell_type": "code",
   "execution_count": 1,
   "metadata": {},
   "outputs": [],
   "source": [
    "import pandas as pd\n",
    "import json\n",
    "from pathlib import Path\n",
    "import requests"
   ]
  },
  {
   "cell_type": "code",
   "execution_count": 2,
   "metadata": {},
   "outputs": [],
   "source": [
    "# retrieve the api key from secret local folder\n",
    "with open(\"/Users/stubbletrouble/.secret/googlemaps_api.json\") as f:\n",
    "    api_key = json.load(f)['api_key']\n",
    "\n",
    "# use this site in a future function\n",
    "url_stem = 'https://maps.googleapis.com/maps/api/elevation/json'\n",
    "\n",
    "# open the file we're going to modify\n",
    "df = pd.read_csv('../data/training_set_values.csv')"
   ]
  },
  {
   "cell_type": "markdown",
   "metadata": {},
   "source": [
    "Below, we will explore what data is missing, both from the larger set and from just the set of wells funded by the government."
   ]
  },
  {
   "cell_type": "code",
   "execution_count": 3,
   "metadata": {},
   "outputs": [
    {
     "name": "stdout",
     "output_type": "stream",
     "text": [
      "There are 59400 records.\n",
      "\n",
      "20438 are missing elevation, and 1812 of those are irretrievable.\n",
      "\n",
      "There are 9190 records with the government as funder.\n",
      "\n",
      "2607 are missing elevation, and 242 of those are irretrievable.\n"
     ]
    }
   ],
   "source": [
    "# convert this column to lowercase in order to make searching simpler\n",
    "df['funder'] = df['funder'].str.lower()\n",
    "# change any label of 'tanzania' to 'government of tanzania'\n",
    "df['funder'] = df['funder'].apply(lambda x: 'government of tanzania' if x == 'tanzania' else x)\n",
    "# change any label of 'tanzania' to 'government of tanzania'\n",
    "df['funder'] = df['funder'].apply(lambda x: 'government of tanzania' if x == 'tanza' else x)\n",
    "\n",
    "total = len(df)\n",
    "total_missing_elev = len(df[df.gps_height == 0])\n",
    "total_irretrievable_elev = len(df[(df.longitude == 0) & (df.gps_height == 0)])\n",
    "gov = len(df[df.funder == 'government of tanzania'])\n",
    "gov_missing_elev = len(df[(df.gps_height == 0) & (df.funder == 'government of tanzania')])\n",
    "gov_irretrievable_elev = len(df[(df.longitude == 0) & (df.gps_height == 0) & (df.funder == 'government of tanzania')])\n",
    "\n",
    "print('There are', total, 'records.\\n')\n",
    "print(total_missing_elev, 'are missing elevation, and', total_irretrievable_elev, 'of those are irretrievable.\\n')\n",
    "print('There are', gov, 'records with the government as funder.\\n')\n",
    "print(gov_missing_elev, 'are missing elevation, and', gov_irretrievable_elev, 'of those are irretrievable.')"
   ]
  },
  {
   "cell_type": "markdown",
   "metadata": {},
   "source": [
    "Now we're ready to retrieve and add the data."
   ]
  },
  {
   "cell_type": "code",
   "execution_count": 4,
   "metadata": {},
   "outputs": [],
   "source": [
    "# this function will make an api request for missing elevation values\n",
    "def get_elev(long, lat, elev, funder):\n",
    "    # we won't bother with records for other funders\n",
    "    if funder != 'government of tanzania':\n",
    "        return elev\n",
    "    # if longitude is zero, then we know this elevation record is irretrievable and we can do nothing\n",
    "    elif long == 0:\n",
    "        return elev\n",
    "    # this will guide the request\n",
    "    else:\n",
    "        url = \"{}?locations={}%2C{}&key={}\".format(url_stem, long, lat, api_key)\n",
    "        response = requests.request(\"GET\", url, headers={}, data={})\n",
    "        return response.json()['results'][0]['elevation']"
   ]
  },
  {
   "cell_type": "code",
   "execution_count": 5,
   "metadata": {},
   "outputs": [],
   "source": [
    "# add a feature with all the elevation values that were available\n",
    "df['elevation'] = df.apply(lambda x: int(get_elev(x.longitude, x.latitude, x.gps_height, x.funder)), axis=1)"
   ]
  },
  {
   "cell_type": "code",
   "execution_count": 6,
   "metadata": {},
   "outputs": [],
   "source": [
    "# write the dataframe with new elevation data to a new csv file\n",
    "filepath = Path('../data/vals_with_elevation.csv')  \n",
    "filepath.parent.mkdir(parents=True, exist_ok=True)  \n",
    "df.to_csv(filepath)"
   ]
  }
 ],
 "metadata": {
  "kernelspec": {
   "display_name": "Python (learn-env)",
   "language": "python",
   "name": "learn-env"
  },
  "language_info": {
   "codemirror_mode": {
    "name": "ipython",
    "version": 3
   },
   "file_extension": ".py",
   "mimetype": "text/x-python",
   "name": "python",
   "nbconvert_exporter": "python",
   "pygments_lexer": "ipython3",
   "version": "3.8.5"
  }
 },
 "nbformat": 4,
 "nbformat_minor": 4
}
