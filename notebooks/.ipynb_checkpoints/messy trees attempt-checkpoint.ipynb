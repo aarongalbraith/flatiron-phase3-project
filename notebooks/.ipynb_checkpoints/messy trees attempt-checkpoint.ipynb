{
 "cells": [
  {
   "cell_type": "code",
   "execution_count": 1,
   "metadata": {},
   "outputs": [],
   "source": [
    "import numpy as np\n",
    "import pandas as pd\n",
    "import matplotlib.pyplot as plt\n",
    "plt.style.use('ggplot')\n",
    "%matplotlib inline\n",
    "from sklearn.model_selection import train_test_split\n",
    "from sklearn.tree import DecisionTreeClassifier\n",
    "from sklearn.metrics import accuracy_score, roc_curve, auc\n",
    "from sklearn.preprocessing import OneHotEncoder\n",
    "from sklearn import tree\n",
    "from scipy.spatial.distance import euclidean\n",
    "SEED = 10"
   ]
  },
  {
   "cell_type": "code",
   "execution_count": 2,
   "metadata": {},
   "outputs": [
    {
     "data": {
      "text/plain": [
       "(59364, 26)"
      ]
     },
     "execution_count": 2,
     "metadata": {},
     "output_type": "execute_result"
    }
   ],
   "source": [
    "# load the data from two files\n",
    "dfX = pd.read_csv('../data/training_set_values.csv')\n",
    "dfy = pd.read_csv('../data/training_set_labels.csv')\n",
    "# concatenate the files\n",
    "df = pd.concat([dfX, dfy.status_group], axis = 1)\n",
    "\n",
    "# drop duplicates, singling out the id column\n",
    "df.drop(df[df.duplicated(subset=df.columns.difference(['id']))].index, inplace=True)\n",
    "# drop columns with missing values\n",
    "df.dropna(axis='columns', inplace=True)\n",
    "# drop id column and columns with problematic zero values\n",
    "df.drop(columns=['id', 'num_private', 'construction_year', 'population'], inplace=True)\n",
    "# convert region_code to string object\n",
    "df.region_code = df.region_code.astype('string')\n",
    "# convert district_code to string object\n",
    "df.district_code = df.district_code.astype('string')\n",
    "# drop columns related to lat/long and elevation (which might still prove to be useful)\n",
    "df.drop(columns=['longitude', 'latitude', 'gps_height'], inplace=True)\n",
    "# show row and column counts\n",
    "df.drop(columns=['date_recorded'], inplace=True)\n",
    "# show row and column counts\n",
    "\n",
    "\n",
    "df.shape"
   ]
  },
  {
   "cell_type": "code",
   "execution_count": 3,
   "metadata": {},
   "outputs": [],
   "source": [
    "labels = df.status_group\n",
    "df.drop('status_group', axis=1, inplace=True)"
   ]
  },
  {
   "cell_type": "code",
   "execution_count": 4,
   "metadata": {},
   "outputs": [],
   "source": [
    "# encode the status_group as 1s ('functional') and 0s ('non functional' or 'functional needs repair')\n",
    "labels = labels.apply(lambda x: 1 if x == 'functional' else 0)\n",
    "# # convert date_recorded to datetime object\n",
    "# df.date_recorded = pd.to_datetime(df.date_recorded, format = \"%Y-%m-%d\")"
   ]
  },
  {
   "cell_type": "code",
   "execution_count": 5,
   "metadata": {},
   "outputs": [
    {
     "data": {
      "text/plain": [
       "(59364, 18)"
      ]
     },
     "execution_count": 5,
     "metadata": {},
     "output_type": "execute_result"
    }
   ],
   "source": [
    "# drop all categorical columns with more than 10 unique values\n",
    "df.drop(columns = list(df.select_dtypes(include=['object']).loc[:, df.nunique() > 10].columns), inplace=True)\n",
    "# show rows and columns\n",
    "df.shape"
   ]
  },
  {
   "cell_type": "code",
   "execution_count": 6,
   "metadata": {},
   "outputs": [
    {
     "data": {
      "text/plain": [
       "(59364, 96)"
      ]
     },
     "execution_count": 6,
     "metadata": {},
     "output_type": "execute_result"
    }
   ],
   "source": [
    "# one-hot encode the categorical columns\n",
    "one_hot_df = pd.get_dummies(df)\n",
    "# show row and column counts\n",
    "one_hot_df.shape"
   ]
  },
  {
   "cell_type": "code",
   "execution_count": 7,
   "metadata": {},
   "outputs": [],
   "source": [
    "from sklearn.model_selection import train_test_split\n",
    "\n",
    "X_train, X_test, y_train, y_test = train_test_split(one_hot_df, labels, test_size=0.25, random_state=42)"
   ]
  },
  {
   "cell_type": "code",
   "execution_count": 9,
   "metadata": {},
   "outputs": [
    {
     "data": {
      "text/html": [
       "<div>\n",
       "<style scoped>\n",
       "    .dataframe tbody tr th:only-of-type {\n",
       "        vertical-align: middle;\n",
       "    }\n",
       "\n",
       "    .dataframe tbody tr th {\n",
       "        vertical-align: top;\n",
       "    }\n",
       "\n",
       "    .dataframe thead tr th {\n",
       "        text-align: left;\n",
       "    }\n",
       "\n",
       "    .dataframe thead tr:last-of-type th {\n",
       "        text-align: right;\n",
       "    }\n",
       "</style>\n",
       "<table border=\"1\" class=\"dataframe\">\n",
       "  <thead>\n",
       "    <tr>\n",
       "      <th></th>\n",
       "      <th colspan=\"2\" halign=\"left\">amount_tsh</th>\n",
       "      <th colspan=\"2\" halign=\"left\">basin_Internal</th>\n",
       "      <th colspan=\"2\" halign=\"left\">basin_Lake Nyasa</th>\n",
       "      <th colspan=\"2\" halign=\"left\">basin_Lake Rukwa</th>\n",
       "      <th colspan=\"2\" halign=\"left\">basin_Lake Tanganyika</th>\n",
       "      <th>...</th>\n",
       "      <th colspan=\"2\" halign=\"left\">waterpoint_type_group_communal standpipe</th>\n",
       "      <th colspan=\"2\" halign=\"left\">waterpoint_type_group_dam</th>\n",
       "      <th colspan=\"2\" halign=\"left\">waterpoint_type_group_hand pump</th>\n",
       "      <th colspan=\"2\" halign=\"left\">waterpoint_type_group_improved spring</th>\n",
       "      <th colspan=\"2\" halign=\"left\">waterpoint_type_group_other</th>\n",
       "    </tr>\n",
       "    <tr>\n",
       "      <th></th>\n",
       "      <th>mean</th>\n",
       "      <th>std</th>\n",
       "      <th>mean</th>\n",
       "      <th>std</th>\n",
       "      <th>mean</th>\n",
       "      <th>std</th>\n",
       "      <th>mean</th>\n",
       "      <th>std</th>\n",
       "      <th>mean</th>\n",
       "      <th>std</th>\n",
       "      <th>...</th>\n",
       "      <th>mean</th>\n",
       "      <th>std</th>\n",
       "      <th>mean</th>\n",
       "      <th>std</th>\n",
       "      <th>mean</th>\n",
       "      <th>std</th>\n",
       "      <th>mean</th>\n",
       "      <th>std</th>\n",
       "      <th>mean</th>\n",
       "      <th>std</th>\n",
       "    </tr>\n",
       "    <tr>\n",
       "      <th>status_group</th>\n",
       "      <th></th>\n",
       "      <th></th>\n",
       "      <th></th>\n",
       "      <th></th>\n",
       "      <th></th>\n",
       "      <th></th>\n",
       "      <th></th>\n",
       "      <th></th>\n",
       "      <th></th>\n",
       "      <th></th>\n",
       "      <th></th>\n",
       "      <th></th>\n",
       "      <th></th>\n",
       "      <th></th>\n",
       "      <th></th>\n",
       "      <th></th>\n",
       "      <th></th>\n",
       "      <th></th>\n",
       "      <th></th>\n",
       "      <th></th>\n",
       "      <th></th>\n",
       "    </tr>\n",
       "  </thead>\n",
       "  <tbody>\n",
       "    <tr>\n",
       "      <th>0</th>\n",
       "      <td>144.774412</td>\n",
       "      <td>1103.875974</td>\n",
       "      <td>0.121936</td>\n",
       "      <td>0.327219</td>\n",
       "      <td>0.064734</td>\n",
       "      <td>0.246061</td>\n",
       "      <td>0.053116</td>\n",
       "      <td>0.224270</td>\n",
       "      <td>0.121985</td>\n",
       "      <td>0.327276</td>\n",
       "      <td>...</td>\n",
       "      <td>0.540809</td>\n",
       "      <td>0.498344</td>\n",
       "      <td>0.000000</td>\n",
       "      <td>0.00000</td>\n",
       "      <td>0.243773</td>\n",
       "      <td>0.429368</td>\n",
       "      <td>0.007975</td>\n",
       "      <td>0.088947</td>\n",
       "      <td>0.206409</td>\n",
       "      <td>0.404738</td>\n",
       "    </tr>\n",
       "    <tr>\n",
       "      <th>1</th>\n",
       "      <td>455.539562</td>\n",
       "      <td>3483.675635</td>\n",
       "      <td>0.138998</td>\n",
       "      <td>0.345951</td>\n",
       "      <td>0.103102</td>\n",
       "      <td>0.304099</td>\n",
       "      <td>0.031187</td>\n",
       "      <td>0.173826</td>\n",
       "      <td>0.096493</td>\n",
       "      <td>0.295272</td>\n",
       "      <td>...</td>\n",
       "      <td>0.617828</td>\n",
       "      <td>0.485928</td>\n",
       "      <td>0.000207</td>\n",
       "      <td>0.01437</td>\n",
       "      <td>0.336197</td>\n",
       "      <td>0.472417</td>\n",
       "      <td>0.017101</td>\n",
       "      <td>0.129651</td>\n",
       "      <td>0.026313</td>\n",
       "      <td>0.160066</td>\n",
       "    </tr>\n",
       "  </tbody>\n",
       "</table>\n",
       "<p>2 rows × 188 columns</p>\n",
       "</div>"
      ],
      "text/plain": [
       "              amount_tsh              basin_Internal            \\\n",
       "                    mean          std           mean       std   \n",
       "status_group                                                     \n",
       "0             144.774412  1103.875974       0.121936  0.327219   \n",
       "1             455.539562  3483.675635       0.138998  0.345951   \n",
       "\n",
       "             basin_Lake Nyasa           basin_Lake Rukwa            \\\n",
       "                         mean       std             mean       std   \n",
       "status_group                                                         \n",
       "0                    0.064734  0.246061         0.053116  0.224270   \n",
       "1                    0.103102  0.304099         0.031187  0.173826   \n",
       "\n",
       "             basin_Lake Tanganyika            ...  \\\n",
       "                              mean       std  ...   \n",
       "status_group                                  ...   \n",
       "0                         0.121985  0.327276  ...   \n",
       "1                         0.096493  0.295272  ...   \n",
       "\n",
       "             waterpoint_type_group_communal standpipe            \\\n",
       "                                                 mean       std   \n",
       "status_group                                                      \n",
       "0                                            0.540809  0.498344   \n",
       "1                                            0.617828  0.485928   \n",
       "\n",
       "             waterpoint_type_group_dam           \\\n",
       "                                  mean      std   \n",
       "status_group                                      \n",
       "0                             0.000000  0.00000   \n",
       "1                             0.000207  0.01437   \n",
       "\n",
       "             waterpoint_type_group_hand pump            \\\n",
       "                                        mean       std   \n",
       "status_group                                             \n",
       "0                                   0.243773  0.429368   \n",
       "1                                   0.336197  0.472417   \n",
       "\n",
       "             waterpoint_type_group_improved spring            \\\n",
       "                                              mean       std   \n",
       "status_group                                                   \n",
       "0                                         0.007975  0.088947   \n",
       "1                                         0.017101  0.129651   \n",
       "\n",
       "             waterpoint_type_group_other            \n",
       "                                    mean       std  \n",
       "status_group                                        \n",
       "0                               0.206409  0.404738  \n",
       "1                               0.026313  0.160066  \n",
       "\n",
       "[2 rows x 188 columns]"
      ]
     },
     "execution_count": 9,
     "metadata": {},
     "output_type": "execute_result"
    }
   ],
   "source": [
    "# calculate the mean and standard deviation for each feature within each class for the training set\n",
    "train = pd.concat([X_train, y_train], axis=1)\n",
    "aggs = train.groupby('status_group').agg(['mean', 'std'])\n",
    "aggs"
   ]
  },
  {
   "cell_type": "code",
   "execution_count": 10,
   "metadata": {},
   "outputs": [
    {
     "ename": "NameError",
     "evalue": "name 'X' is not defined",
     "output_type": "error",
     "traceback": [
      "\u001b[0;31m---------------------------------------------------------------------------\u001b[0m",
      "\u001b[0;31mNameError\u001b[0m                                 Traceback (most recent call last)",
      "\u001b[0;32m<ipython-input-10-ee6b3e7d4493>\u001b[0m in \u001b[0;36m<module>\u001b[0;34m\u001b[0m\n\u001b[1;32m     10\u001b[0m     \u001b[0mp_x_given_y\u001b[0m \u001b[0;34m=\u001b[0m \u001b[0mstats\u001b[0m\u001b[0;34m.\u001b[0m\u001b[0mnorm\u001b[0m\u001b[0;34m.\u001b[0m\u001b[0mpdf\u001b[0m\u001b[0;34m(\u001b[0m\u001b[0mobs\u001b[0m\u001b[0;34m,\u001b[0m \u001b[0mloc\u001b[0m\u001b[0;34m=\u001b[0m\u001b[0mmu\u001b[0m\u001b[0;34m,\u001b[0m \u001b[0mscale\u001b[0m\u001b[0;34m=\u001b[0m\u001b[0mstd\u001b[0m\u001b[0;34m)\u001b[0m\u001b[0;34m\u001b[0m\u001b[0;34m\u001b[0m\u001b[0m\n\u001b[1;32m     11\u001b[0m     \u001b[0;32mreturn\u001b[0m \u001b[0mp_x_given_y\u001b[0m\u001b[0;34m\u001b[0m\u001b[0;34m\u001b[0m\u001b[0m\n\u001b[0;32m---> 12\u001b[0;31m \u001b[0mp_x_given_class\u001b[0m\u001b[0;34m(\u001b[0m\u001b[0mX_train\u001b[0m\u001b[0;34m.\u001b[0m\u001b[0miloc\u001b[0m\u001b[0;34m[\u001b[0m\u001b[0;36m0\u001b[0m\u001b[0;34m]\u001b[0m\u001b[0;34m,\u001b[0m \u001b[0mX\u001b[0m\u001b[0;34m.\u001b[0m\u001b[0mcolumns\u001b[0m\u001b[0;34m[\u001b[0m\u001b[0;36m0\u001b[0m\u001b[0;34m]\u001b[0m\u001b[0;34m,\u001b[0m \u001b[0;36m0\u001b[0m\u001b[0;34m)\u001b[0m\u001b[0;34m\u001b[0m\u001b[0;34m\u001b[0m\u001b[0m\n\u001b[0m",
      "\u001b[0;31mNameError\u001b[0m: name 'X' is not defined"
     ]
    }
   ],
   "source": [
    "# Your code here\n",
    "from scipy import stats\n",
    "def p_x_given_class(obs_row, feature, class_):\n",
    "    mu = aggs[feature]['mean'][class_]\n",
    "    std = aggs[feature]['std'][class_]\n",
    "    \n",
    "    # Observation\n",
    "    obs = obs_row[feature] \n",
    "    \n",
    "    p_x_given_y = stats.norm.pdf(obs, loc=mu, scale=std)\n",
    "    return p_x_given_y\n",
    "p_x_given_class(X_train.iloc[0], X.columns[0], 0)"
   ]
  },
  {
   "cell_type": "code",
   "execution_count": null,
   "metadata": {},
   "outputs": [],
   "source": []
  }
 ],
 "metadata": {
  "kernelspec": {
   "display_name": "Python (learn-env)",
   "language": "python",
   "name": "learn-env"
  },
  "language_info": {
   "codemirror_mode": {
    "name": "ipython",
    "version": 3
   },
   "file_extension": ".py",
   "mimetype": "text/x-python",
   "name": "python",
   "nbconvert_exporter": "python",
   "pygments_lexer": "ipython3",
   "version": "3.8.5"
  }
 },
 "nbformat": 4,
 "nbformat_minor": 4
}
